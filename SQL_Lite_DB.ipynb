{
 "cells": [
  {
   "cell_type": "code",
   "execution_count": 1,
   "metadata": {},
   "outputs": [],
   "source": [
    "import pandas as pd\n",
    "import sqlite3"
   ]
  },
  {
   "cell_type": "code",
   "execution_count": 136,
   "metadata": {},
   "outputs": [],
   "source": [
    "conn = sqlite3.connect(\"pets.db\")"
   ]
  },
  {
   "cell_type": "markdown",
   "metadata": {},
   "source": [
    "### You want to execute commands through cursors, so we will create a cursor for our connection"
   ]
  },
  {
   "cell_type": "code",
   "execution_count": 137,
   "metadata": {},
   "outputs": [],
   "source": [
    "cur = conn.cursor()"
   ]
  },
  {
   "cell_type": "markdown",
   "metadata": {},
   "source": [
    "If you want to close your connection"
   ]
  },
  {
   "cell_type": "code",
   "execution_count": 138,
   "metadata": {},
   "outputs": [],
   "source": [
    "conn.close()"
   ]
  },
  {
   "cell_type": "markdown",
   "metadata": {},
   "source": [
    "Then you have to reconnect"
   ]
  },
  {
   "cell_type": "code",
   "execution_count": 29,
   "metadata": {},
   "outputs": [
    {
     "data": {
      "text/plain": [
       "<sqlite3.Cursor at 0x7fc69909be30>"
      ]
     },
     "execution_count": 29,
     "metadata": {},
     "output_type": "execute_result"
    }
   ],
   "source": [
    "create_table_query = \"\"\"\n",
    "CREATE TABLE IF NOT EXISTS pets (\n",
    "    name text,\n",
    "    species text,\n",
    "    color text,\n",
    "    age int,\n",
    "    human text\n",
    ");\n",
    "\"\"\"\n",
    "cur.execute(create_table_query)"
   ]
  },
  {
   "cell_type": "code",
   "execution_count": 30,
   "metadata": {},
   "outputs": [],
   "source": [
    "conn.commit()"
   ]
  },
  {
   "cell_type": "code",
   "execution_count": 7,
   "metadata": {},
   "outputs": [],
   "source": []
  },
  {
   "cell_type": "code",
   "execution_count": 31,
   "metadata": {},
   "outputs": [],
   "source": [
    "insert_query = \"\"\"\n",
    "INSERT INTO pets\n",
    "(name, species, color, age, human)\n",
    "VALUES (\"Chloe\", \"dog\", \"black\", 9, \"Tim\");\n",
    "\"\"\""
   ]
  },
  {
   "cell_type": "code",
   "execution_count": 45,
   "metadata": {},
   "outputs": [],
   "source": [
    "cur = conn.cursor()\n",
    "cur.execute(insert_query)\n",
    "conn.commit()"
   ]
  },
  {
   "cell_type": "markdown",
   "metadata": {},
   "source": [
    "### Create a custom function to add pets"
   ]
  },
  {
   "cell_type": "code",
   "execution_count": 38,
   "metadata": {},
   "outputs": [],
   "source": [
    "def add_pet(name, species, color, age, human, conn):\n",
    "    cur = conn.cursor()\n",
    "    query = f\"\"\"\n",
    "    INSERT INTO pets\n",
    "    (name, species, color, age, human)\n",
    "    VALUES (\"{name}\", \"{species}\", \"{color}\", {age}, \"{human}\")\n",
    "    \"\"\"\n",
    "    cur.execute(query)\n",
    "    conn.commit()"
   ]
  },
  {
   "cell_type": "code",
   "execution_count": 47,
   "metadata": {},
   "outputs": [],
   "source": [
    "add_pet(\"Muffy\", 'mutt', 'brown', 7, 'Arman', conn)"
   ]
  },
  {
   "cell_type": "markdown",
   "metadata": {},
   "source": [
    "### Create custom function to get items by name"
   ]
  },
  {
   "cell_type": "code",
   "execution_count": 40,
   "metadata": {},
   "outputs": [],
   "source": [
    "def get_by_name(name, conn):\n",
    "    cur = conn.cursor()\n",
    "    cur.execute(\"SELECT * FROM pets WHERE name = ?\", (name, ))\n",
    "    data_raw = cur.fetchall()\n",
    "    return pd.DataFrame(\n",
    "        data_raw,\n",
    "        columns=[\"name\", \"species\", \"color\", \"age\", \"human\"]\n",
    "    )"
   ]
  },
  {
   "cell_type": "code",
   "execution_count": 56,
   "metadata": {},
   "outputs": [
    {
     "data": {
      "text/html": [
       "<div>\n",
       "<style scoped>\n",
       "    .dataframe tbody tr th:only-of-type {\n",
       "        vertical-align: middle;\n",
       "    }\n",
       "\n",
       "    .dataframe tbody tr th {\n",
       "        vertical-align: top;\n",
       "    }\n",
       "\n",
       "    .dataframe thead th {\n",
       "        text-align: right;\n",
       "    }\n",
       "</style>\n",
       "<table border=\"1\" class=\"dataframe\">\n",
       "  <thead>\n",
       "    <tr style=\"text-align: right;\">\n",
       "      <th></th>\n",
       "      <th>name</th>\n",
       "      <th>species</th>\n",
       "      <th>color</th>\n",
       "      <th>age</th>\n",
       "      <th>human</th>\n",
       "    </tr>\n",
       "  </thead>\n",
       "  <tbody>\n",
       "    <tr>\n",
       "      <th>0</th>\n",
       "      <td>Chloe</td>\n",
       "      <td>dog</td>\n",
       "      <td>black</td>\n",
       "      <td>9</td>\n",
       "      <td>Tim</td>\n",
       "    </tr>\n",
       "    <tr>\n",
       "      <th>1</th>\n",
       "      <td>Chloe</td>\n",
       "      <td>dog</td>\n",
       "      <td>black</td>\n",
       "      <td>9</td>\n",
       "      <td>Tim</td>\n",
       "    </tr>\n",
       "    <tr>\n",
       "      <th>2</th>\n",
       "      <td>Chloe</td>\n",
       "      <td>dog</td>\n",
       "      <td>black</td>\n",
       "      <td>9</td>\n",
       "      <td>Tim</td>\n",
       "    </tr>\n",
       "    <tr>\n",
       "      <th>3</th>\n",
       "      <td>Chloe</td>\n",
       "      <td>dog</td>\n",
       "      <td>black</td>\n",
       "      <td>9</td>\n",
       "      <td>Tim</td>\n",
       "    </tr>\n",
       "    <tr>\n",
       "      <th>4</th>\n",
       "      <td>Chloe</td>\n",
       "      <td>dog</td>\n",
       "      <td>black</td>\n",
       "      <td>9</td>\n",
       "      <td>Tim</td>\n",
       "    </tr>\n",
       "    <tr>\n",
       "      <th>5</th>\n",
       "      <td>Chloe</td>\n",
       "      <td>dog</td>\n",
       "      <td>black</td>\n",
       "      <td>9</td>\n",
       "      <td>Tim</td>\n",
       "    </tr>\n",
       "  </tbody>\n",
       "</table>\n",
       "</div>"
      ],
      "text/plain": [
       "    name species  color  age human\n",
       "0  Chloe     dog  black    9   Tim\n",
       "1  Chloe     dog  black    9   Tim\n",
       "2  Chloe     dog  black    9   Tim\n",
       "3  Chloe     dog  black    9   Tim\n",
       "4  Chloe     dog  black    9   Tim\n",
       "5  Chloe     dog  black    9   Tim"
      ]
     },
     "execution_count": 56,
     "metadata": {},
     "output_type": "execute_result"
    }
   ],
   "source": [
    "get_by_name(\"Chloe\", conn)"
   ]
  },
  {
   "cell_type": "markdown",
   "metadata": {},
   "source": [
    "### Instead of a bunch of functions, let's put them all into one Class"
   ]
  },
  {
   "cell_type": "code",
   "execution_count": 2,
   "metadata": {},
   "outputs": [],
   "source": [
    "class PetDB:\n",
    "    def __init__(self, file):\n",
    "        self.conn = sqlite3.connect(file)\n",
    "        self.cur = self.conn.cursor()\n",
    "        \n",
    "    def create_table(self):\n",
    "        create_table_query = \"\"\"\n",
    "            CREATE TABLE IF NOT EXISTS pets (\n",
    "                name text,\n",
    "                species text,\n",
    "                color text,\n",
    "                age int,\n",
    "                human text\n",
    "            )\n",
    "        \"\"\"\n",
    "\n",
    "        self.cur.execute(create_table_query); \n",
    "        self.conn.commit()\n",
    "        \n",
    "    def drop_table(self):\n",
    "        self.cur.execute(\"DROP TABLE IF EXISTS pets\")\n",
    "        self.conn.commit()\n",
    "\n",
    "    def add_pet(self, name, species, color, age, human):\n",
    "        query =  f\"\"\"\n",
    "            INSERT INTO pets\n",
    "            (name, species, color, age, human)\n",
    "            VALUES (\"{name}\", \"{species}\", \"{color}\", {age}, \"{human}\")\n",
    "        \"\"\"\n",
    "        \n",
    "        self.cur.execute(query)\n",
    "        self.conn.commit()\n",
    "    \n",
    "    def get_all(self):\n",
    "        self.cur.execute(\"SELECT * FROM pets\")\n",
    "        return pd.DataFrame(\n",
    "            self.cur.fetchall(),\n",
    "            columns=[\"name\", \"species\", \"color\", \"age\", \"human\"]\n",
    "        )\n",
    "        \n",
    "    def get_by_name(self, name):\n",
    "        self.cur.execute(\"SELECT * FROM pets WHERE name = ?\", (name,))\n",
    "        return pd.DataFrame(\n",
    "            self.cur.fetchall(),\n",
    "            columns=[\"name\", \"species\", \"color\", \"age\", \"human\"]\n",
    "        )\n",
    "    \n",
    "    def had_birthday(self, name):\n",
    "        old_age = self.get_by_name(name).age[0]\n",
    "        \n",
    "        update_query = f\"\"\"\n",
    "        UPDATE pets\n",
    "        SET age = {old_age + 1}\n",
    "        WHERE name = \"{name}\"\n",
    "        \"\"\"\n",
    "        \n",
    "        self.cur.execute(update_query)\n",
    "        self.conn.commit()\n",
    "        \n",
    "    def delete_by_name(self, name):\n",
    "        self.cur.execute(\"DELETE FROM pets WHERE name = ?\", (name,))\n",
    "        self.conn.commit()"
   ]
  },
  {
   "cell_type": "code",
   "execution_count": 3,
   "metadata": {},
   "outputs": [],
   "source": [
    "db = PetDB(\"pets.db\")"
   ]
  },
  {
   "cell_type": "code",
   "execution_count": 6,
   "metadata": {},
   "outputs": [],
   "source": [
    "db.add_pet(\"Midge\", \"cat\", \"black orange\", 7, \"Brendan\")"
   ]
  },
  {
   "cell_type": "code",
   "execution_count": 7,
   "metadata": {},
   "outputs": [
    {
     "data": {
      "text/html": [
       "<div>\n",
       "<style scoped>\n",
       "    .dataframe tbody tr th:only-of-type {\n",
       "        vertical-align: middle;\n",
       "    }\n",
       "\n",
       "    .dataframe tbody tr th {\n",
       "        vertical-align: top;\n",
       "    }\n",
       "\n",
       "    .dataframe thead th {\n",
       "        text-align: right;\n",
       "    }\n",
       "</style>\n",
       "<table border=\"1\" class=\"dataframe\">\n",
       "  <thead>\n",
       "    <tr style=\"text-align: right;\">\n",
       "      <th></th>\n",
       "      <th>name</th>\n",
       "      <th>species</th>\n",
       "      <th>color</th>\n",
       "      <th>age</th>\n",
       "      <th>human</th>\n",
       "    </tr>\n",
       "  </thead>\n",
       "  <tbody>\n",
       "    <tr>\n",
       "      <th>0</th>\n",
       "      <td>Muffy</td>\n",
       "      <td>mutt</td>\n",
       "      <td>brown</td>\n",
       "      <td>7</td>\n",
       "      <td>Arman</td>\n",
       "    </tr>\n",
       "    <tr>\n",
       "      <th>1</th>\n",
       "      <td>Muffy</td>\n",
       "      <td>mutt</td>\n",
       "      <td>brown</td>\n",
       "      <td>7</td>\n",
       "      <td>Arman</td>\n",
       "    </tr>\n",
       "    <tr>\n",
       "      <th>2</th>\n",
       "      <td>Muffy</td>\n",
       "      <td>mutt</td>\n",
       "      <td>brown</td>\n",
       "      <td>7</td>\n",
       "      <td>Arman</td>\n",
       "    </tr>\n",
       "    <tr>\n",
       "      <th>3</th>\n",
       "      <td>Muffy</td>\n",
       "      <td>mutt</td>\n",
       "      <td>brown</td>\n",
       "      <td>7</td>\n",
       "      <td>Arman</td>\n",
       "    </tr>\n",
       "    <tr>\n",
       "      <th>4</th>\n",
       "      <td>Midge</td>\n",
       "      <td>cat</td>\n",
       "      <td>black orange</td>\n",
       "      <td>7</td>\n",
       "      <td>Brendan</td>\n",
       "    </tr>\n",
       "    <tr>\n",
       "      <th>5</th>\n",
       "      <td>Midge</td>\n",
       "      <td>cat</td>\n",
       "      <td>black orange</td>\n",
       "      <td>7</td>\n",
       "      <td>Brendan</td>\n",
       "    </tr>\n",
       "    <tr>\n",
       "      <th>6</th>\n",
       "      <td>Midge</td>\n",
       "      <td>cat</td>\n",
       "      <td>black orange</td>\n",
       "      <td>7</td>\n",
       "      <td>Brendan</td>\n",
       "    </tr>\n",
       "  </tbody>\n",
       "</table>\n",
       "</div>"
      ],
      "text/plain": [
       "    name species         color  age    human\n",
       "0  Muffy    mutt         brown    7    Arman\n",
       "1  Muffy    mutt         brown    7    Arman\n",
       "2  Muffy    mutt         brown    7    Arman\n",
       "3  Muffy    mutt         brown    7    Arman\n",
       "4  Midge     cat  black orange    7  Brendan\n",
       "5  Midge     cat  black orange    7  Brendan\n",
       "6  Midge     cat  black orange    7  Brendan"
      ]
     },
     "execution_count": 7,
     "metadata": {},
     "output_type": "execute_result"
    }
   ],
   "source": [
    "db.get_all()"
   ]
  },
  {
   "cell_type": "code",
   "execution_count": 8,
   "metadata": {},
   "outputs": [],
   "source": [
    "db.delete_by_name(\"Midge\")"
   ]
  },
  {
   "cell_type": "code",
   "execution_count": 9,
   "metadata": {},
   "outputs": [
    {
     "data": {
      "text/html": [
       "<div>\n",
       "<style scoped>\n",
       "    .dataframe tbody tr th:only-of-type {\n",
       "        vertical-align: middle;\n",
       "    }\n",
       "\n",
       "    .dataframe tbody tr th {\n",
       "        vertical-align: top;\n",
       "    }\n",
       "\n",
       "    .dataframe thead th {\n",
       "        text-align: right;\n",
       "    }\n",
       "</style>\n",
       "<table border=\"1\" class=\"dataframe\">\n",
       "  <thead>\n",
       "    <tr style=\"text-align: right;\">\n",
       "      <th></th>\n",
       "      <th>name</th>\n",
       "      <th>species</th>\n",
       "      <th>color</th>\n",
       "      <th>age</th>\n",
       "      <th>human</th>\n",
       "    </tr>\n",
       "  </thead>\n",
       "  <tbody>\n",
       "    <tr>\n",
       "      <th>0</th>\n",
       "      <td>Muffy</td>\n",
       "      <td>mutt</td>\n",
       "      <td>brown</td>\n",
       "      <td>7</td>\n",
       "      <td>Arman</td>\n",
       "    </tr>\n",
       "    <tr>\n",
       "      <th>1</th>\n",
       "      <td>Muffy</td>\n",
       "      <td>mutt</td>\n",
       "      <td>brown</td>\n",
       "      <td>7</td>\n",
       "      <td>Arman</td>\n",
       "    </tr>\n",
       "    <tr>\n",
       "      <th>2</th>\n",
       "      <td>Muffy</td>\n",
       "      <td>mutt</td>\n",
       "      <td>brown</td>\n",
       "      <td>7</td>\n",
       "      <td>Arman</td>\n",
       "    </tr>\n",
       "    <tr>\n",
       "      <th>3</th>\n",
       "      <td>Muffy</td>\n",
       "      <td>mutt</td>\n",
       "      <td>brown</td>\n",
       "      <td>7</td>\n",
       "      <td>Arman</td>\n",
       "    </tr>\n",
       "  </tbody>\n",
       "</table>\n",
       "</div>"
      ],
      "text/plain": [
       "    name species  color  age  human\n",
       "0  Muffy    mutt  brown    7  Arman\n",
       "1  Muffy    mutt  brown    7  Arman\n",
       "2  Muffy    mutt  brown    7  Arman\n",
       "3  Muffy    mutt  brown    7  Arman"
      ]
     },
     "execution_count": 9,
     "metadata": {},
     "output_type": "execute_result"
    }
   ],
   "source": [
    "db.get_all()"
   ]
  },
  {
   "cell_type": "code",
   "execution_count": 10,
   "metadata": {},
   "outputs": [],
   "source": [
    "db.delete_by_name(\"Muffy\")"
   ]
  },
  {
   "cell_type": "code",
   "execution_count": 11,
   "metadata": {},
   "outputs": [
    {
     "data": {
      "text/html": [
       "<div>\n",
       "<style scoped>\n",
       "    .dataframe tbody tr th:only-of-type {\n",
       "        vertical-align: middle;\n",
       "    }\n",
       "\n",
       "    .dataframe tbody tr th {\n",
       "        vertical-align: top;\n",
       "    }\n",
       "\n",
       "    .dataframe thead th {\n",
       "        text-align: right;\n",
       "    }\n",
       "</style>\n",
       "<table border=\"1\" class=\"dataframe\">\n",
       "  <thead>\n",
       "    <tr style=\"text-align: right;\">\n",
       "      <th></th>\n",
       "      <th>name</th>\n",
       "      <th>species</th>\n",
       "      <th>color</th>\n",
       "      <th>age</th>\n",
       "      <th>human</th>\n",
       "    </tr>\n",
       "  </thead>\n",
       "  <tbody>\n",
       "  </tbody>\n",
       "</table>\n",
       "</div>"
      ],
      "text/plain": [
       "Empty DataFrame\n",
       "Columns: [name, species, color, age, human]\n",
       "Index: []"
      ]
     },
     "execution_count": 11,
     "metadata": {},
     "output_type": "execute_result"
    }
   ],
   "source": [
    "db.get_all()"
   ]
  },
  {
   "cell_type": "code",
   "execution_count": 12,
   "metadata": {},
   "outputs": [],
   "source": [
    "db.add_pet(\"Midge\", \"cat\", \"black orange\", 7, \"Brendan\")"
   ]
  },
  {
   "cell_type": "code",
   "execution_count": 14,
   "metadata": {},
   "outputs": [],
   "source": [
    "db.add_pet(\"Muffy\", 'dog', 'brown', 7, 'Arman')"
   ]
  },
  {
   "cell_type": "code",
   "execution_count": 15,
   "metadata": {},
   "outputs": [
    {
     "data": {
      "text/html": [
       "<div>\n",
       "<style scoped>\n",
       "    .dataframe tbody tr th:only-of-type {\n",
       "        vertical-align: middle;\n",
       "    }\n",
       "\n",
       "    .dataframe tbody tr th {\n",
       "        vertical-align: top;\n",
       "    }\n",
       "\n",
       "    .dataframe thead th {\n",
       "        text-align: right;\n",
       "    }\n",
       "</style>\n",
       "<table border=\"1\" class=\"dataframe\">\n",
       "  <thead>\n",
       "    <tr style=\"text-align: right;\">\n",
       "      <th></th>\n",
       "      <th>name</th>\n",
       "      <th>species</th>\n",
       "      <th>color</th>\n",
       "      <th>age</th>\n",
       "      <th>human</th>\n",
       "    </tr>\n",
       "  </thead>\n",
       "  <tbody>\n",
       "    <tr>\n",
       "      <th>0</th>\n",
       "      <td>Midge</td>\n",
       "      <td>cat</td>\n",
       "      <td>black orange</td>\n",
       "      <td>7</td>\n",
       "      <td>Brendan</td>\n",
       "    </tr>\n",
       "    <tr>\n",
       "      <th>1</th>\n",
       "      <td>Muffy</td>\n",
       "      <td>dog</td>\n",
       "      <td>brown</td>\n",
       "      <td>7</td>\n",
       "      <td>Arman</td>\n",
       "    </tr>\n",
       "  </tbody>\n",
       "</table>\n",
       "</div>"
      ],
      "text/plain": [
       "    name species         color  age    human\n",
       "0  Midge     cat  black orange    7  Brendan\n",
       "1  Muffy     dog         brown    7    Arman"
      ]
     },
     "execution_count": 15,
     "metadata": {},
     "output_type": "execute_result"
    }
   ],
   "source": [
    "db.get_all()"
   ]
  },
  {
   "cell_type": "code",
   "execution_count": 16,
   "metadata": {},
   "outputs": [],
   "source": [
    "db.add_pet(\"Chloe\", \"dog\", \"black\", 9, \"Tim\")"
   ]
  },
  {
   "cell_type": "code",
   "execution_count": 17,
   "metadata": {},
   "outputs": [
    {
     "data": {
      "text/html": [
       "<div>\n",
       "<style scoped>\n",
       "    .dataframe tbody tr th:only-of-type {\n",
       "        vertical-align: middle;\n",
       "    }\n",
       "\n",
       "    .dataframe tbody tr th {\n",
       "        vertical-align: top;\n",
       "    }\n",
       "\n",
       "    .dataframe thead th {\n",
       "        text-align: right;\n",
       "    }\n",
       "</style>\n",
       "<table border=\"1\" class=\"dataframe\">\n",
       "  <thead>\n",
       "    <tr style=\"text-align: right;\">\n",
       "      <th></th>\n",
       "      <th>name</th>\n",
       "      <th>species</th>\n",
       "      <th>color</th>\n",
       "      <th>age</th>\n",
       "      <th>human</th>\n",
       "    </tr>\n",
       "  </thead>\n",
       "  <tbody>\n",
       "    <tr>\n",
       "      <th>0</th>\n",
       "      <td>Midge</td>\n",
       "      <td>cat</td>\n",
       "      <td>black orange</td>\n",
       "      <td>7</td>\n",
       "      <td>Brendan</td>\n",
       "    </tr>\n",
       "    <tr>\n",
       "      <th>1</th>\n",
       "      <td>Muffy</td>\n",
       "      <td>dog</td>\n",
       "      <td>brown</td>\n",
       "      <td>7</td>\n",
       "      <td>Arman</td>\n",
       "    </tr>\n",
       "    <tr>\n",
       "      <th>2</th>\n",
       "      <td>Chloe</td>\n",
       "      <td>dog</td>\n",
       "      <td>black</td>\n",
       "      <td>9</td>\n",
       "      <td>Tim</td>\n",
       "    </tr>\n",
       "  </tbody>\n",
       "</table>\n",
       "</div>"
      ],
      "text/plain": [
       "    name species         color  age    human\n",
       "0  Midge     cat  black orange    7  Brendan\n",
       "1  Muffy     dog         brown    7    Arman\n",
       "2  Chloe     dog         black    9      Tim"
      ]
     },
     "execution_count": 17,
     "metadata": {},
     "output_type": "execute_result"
    }
   ],
   "source": [
    "db.get_all()"
   ]
  },
  {
   "cell_type": "code",
   "execution_count": null,
   "metadata": {},
   "outputs": [],
   "source": []
  }
 ],
 "metadata": {
  "kernelspec": {
   "display_name": "Python 3",
   "language": "python",
   "name": "python3"
  },
  "language_info": {
   "codemirror_mode": {
    "name": "ipython",
    "version": 3
   },
   "file_extension": ".py",
   "mimetype": "text/x-python",
   "name": "python",
   "nbconvert_exporter": "python",
   "pygments_lexer": "ipython3",
   "version": "3.7.3"
  }
 },
 "nbformat": 4,
 "nbformat_minor": 4
}
